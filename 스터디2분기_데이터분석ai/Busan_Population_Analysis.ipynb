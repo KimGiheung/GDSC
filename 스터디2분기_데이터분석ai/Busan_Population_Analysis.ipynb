{
  "nbformat": 4,
  "nbformat_minor": 0,
  "metadata": {
    "colab": {
      "provenance": []
    },
    "kernelspec": {
      "name": "python3",
      "display_name": "Python 3"
    },
    "language_info": {
      "name": "python"
    }
  },
  "cells": [
    {
      "cell_type": "markdown",
      "source": [
        "# 부산 지역의 인구 변화를 시각화하고 인사이트 도출"
      ],
      "metadata": {
        "id": "td_Ip4z4BbAo"
      }
    },
    {
      "cell_type": "code",
      "source": [
        "!pip install dash dash-renderer dash-html-components dash-core-components plotly"
      ],
      "metadata": {
        "colab": {
          "base_uri": "https://localhost:8080/"
        },
        "id": "OGDG18v3dnwR",
        "outputId": "93389636-23a0-41bb-8495-d2e5aec2ee1e"
      },
      "execution_count": null,
      "outputs": [
        {
          "output_type": "stream",
          "name": "stdout",
          "text": [
            "Requirement already satisfied: dash in /usr/local/lib/python3.10/dist-packages (2.14.2)\n",
            "Requirement already satisfied: dash-renderer in /usr/local/lib/python3.10/dist-packages (1.9.1)\n",
            "Requirement already satisfied: dash-html-components in /usr/local/lib/python3.10/dist-packages (2.0.0)\n",
            "Requirement already satisfied: dash-core-components in /usr/local/lib/python3.10/dist-packages (2.0.0)\n",
            "Requirement already satisfied: plotly in /usr/local/lib/python3.10/dist-packages (5.15.0)\n",
            "Requirement already satisfied: Flask<3.1,>=1.0.4 in /usr/local/lib/python3.10/dist-packages (from dash) (2.2.5)\n",
            "Requirement already satisfied: Werkzeug<3.1 in /usr/local/lib/python3.10/dist-packages (from dash) (3.0.1)\n",
            "Requirement already satisfied: dash-table==5.0.0 in /usr/local/lib/python3.10/dist-packages (from dash) (5.0.0)\n",
            "Requirement already satisfied: typing-extensions>=4.1.1 in /usr/local/lib/python3.10/dist-packages (from dash) (4.5.0)\n",
            "Requirement already satisfied: requests in /usr/local/lib/python3.10/dist-packages (from dash) (2.31.0)\n",
            "Requirement already satisfied: retrying in /usr/local/lib/python3.10/dist-packages (from dash) (1.3.4)\n",
            "Requirement already satisfied: ansi2html in /usr/local/lib/python3.10/dist-packages (from dash) (1.9.1)\n",
            "Requirement already satisfied: nest-asyncio in /usr/local/lib/python3.10/dist-packages (from dash) (1.5.8)\n",
            "Requirement already satisfied: setuptools in /usr/local/lib/python3.10/dist-packages (from dash) (67.7.2)\n",
            "Requirement already satisfied: importlib-metadata in /usr/local/lib/python3.10/dist-packages (from dash) (7.0.0)\n",
            "Requirement already satisfied: tenacity>=6.2.0 in /usr/local/lib/python3.10/dist-packages (from plotly) (8.2.3)\n",
            "Requirement already satisfied: packaging in /usr/local/lib/python3.10/dist-packages (from plotly) (23.2)\n",
            "Requirement already satisfied: Jinja2>=3.0 in /usr/local/lib/python3.10/dist-packages (from Flask<3.1,>=1.0.4->dash) (3.1.2)\n",
            "Requirement already satisfied: itsdangerous>=2.0 in /usr/local/lib/python3.10/dist-packages (from Flask<3.1,>=1.0.4->dash) (2.1.2)\n",
            "Requirement already satisfied: click>=8.0 in /usr/local/lib/python3.10/dist-packages (from Flask<3.1,>=1.0.4->dash) (8.1.7)\n",
            "Requirement already satisfied: MarkupSafe>=2.1.1 in /usr/local/lib/python3.10/dist-packages (from Werkzeug<3.1->dash) (2.1.3)\n",
            "Requirement already satisfied: zipp>=0.5 in /usr/local/lib/python3.10/dist-packages (from importlib-metadata->dash) (3.17.0)\n",
            "Requirement already satisfied: charset-normalizer<4,>=2 in /usr/local/lib/python3.10/dist-packages (from requests->dash) (3.3.2)\n",
            "Requirement already satisfied: idna<4,>=2.5 in /usr/local/lib/python3.10/dist-packages (from requests->dash) (3.6)\n",
            "Requirement already satisfied: urllib3<3,>=1.21.1 in /usr/local/lib/python3.10/dist-packages (from requests->dash) (2.0.7)\n",
            "Requirement already satisfied: certifi>=2017.4.17 in /usr/local/lib/python3.10/dist-packages (from requests->dash) (2023.11.17)\n",
            "Requirement already satisfied: six>=1.7.0 in /usr/local/lib/python3.10/dist-packages (from retrying->dash) (1.16.0)\n"
          ]
        }
      ]
    },
    {
      "cell_type": "markdown",
      "source": [
        "# 라이브러리 불러오기"
      ],
      "metadata": {
        "id": "SSIT_xcODUv2"
      }
    },
    {
      "cell_type": "code",
      "source": [
        "import dash\n",
        "import dash_core_components as dcc\n",
        "import dash_html_components as html\n",
        "import plotly.graph_objs as go\n",
        "import pandas as pd\n",
        "import numpy as np"
      ],
      "metadata": {
        "id": "wj_bidfSeOeQ"
      },
      "execution_count": null,
      "outputs": []
    },
    {
      "cell_type": "markdown",
      "source": [
        "# 데이터 생성"
      ],
      "metadata": {
        "id": "arXtc9F4DO4D"
      }
    },
    {
      "cell_type": "code",
      "source": [
        "# 시계열 데이터 생성\n",
        "dates = pd.date_range(start=\"2015-01\", end=\"2023-12\", freq='M')\n",
        "date_series = dates.strftime(\"%Y-%m\").tolist()\n",
        "\n",
        "# 데이터 불러오기\n",
        "df = pd.read_csv(\"/content/drive/MyDrive/스터디2분기_데이터분석ai/data/부산광역시_전체_세대_및_인구개황_20240103164302.csv\", encoding = \"utf-8\")\n",
        "print(df.head())\n",
        "subdf = pd.DataFrame(df['구·군별'][1:])\n",
        "\n",
        "# subdf = pd.concat([subdf, df[str(2015) + str(0.01)[1:]]], axis=1)\n",
        "# print(subdf.head())\n",
        "\n",
        "for year in range(2015, 2023+1):\n",
        "  for month in map(str, np.round(np.arange(0.01, 0.13, 0.01), 2)):\n",
        "    #2023년은 11월 data까지만 있음.\n",
        "    if year == 2023 and month=='0.12':\n",
        "      break\n",
        "\n",
        "    if month == '0.1':\n",
        "      month = '0.10'\n",
        "    subdf = pd.concat([subdf, df[str(year)+ month[1:] + '.2']], axis=1)\n",
        "    # for num in range(1,8):\n",
        "    #   subdf = pd.concat([subdf, df[str(year)+ month[1:]+'.' + str(num)]], axis=1)\n",
        "print(subdf)"
      ],
      "metadata": {
        "colab": {
          "base_uri": "https://localhost:8080/"
        },
        "id": "tciwYFBwDNvQ",
        "outputId": "cf426ce3-0415-4f91-d3de-19a427eb0c27"
      },
      "execution_count": null,
      "outputs": [
        {
          "output_type": "stream",
          "name": "stdout",
          "text": [
            "    구·군별   2015.01 2015.01.1 2015.01.2  2015.01.3  2015.01.4  \\\n",
            "0   구·군별  읍면동수 (개)  세대수 (세대)  인구수  (명)  남자인구수 (명)  여자인구수 (명)   \n",
            "1  부산광역시       208   1422500   3561718    1764506    1797212   \n",
            "2     중구         9     23471     48156      23960      24196   \n",
            "3     서구        13     53388    119548      59125      60423   \n",
            "4     동구        14     43749     96054      47498      48556   \n",
            "\n",
            "            2015.01.5 2015.01.6   2015.01.7   2015.02  ... 2023.10.6  \\\n",
            "0  시전체 인구에 대한 구성비 (%)    면적 (㎢)  인구밀도 (명/㎢)  읍면동수 (개)  ...    면적 (㎢)   \n",
            "1               100.0    769.82        4627       208  ...    771.33   \n",
            "2                 1.4      2.83       17016         9  ...      3.01   \n",
            "3                 3.4     13.93        8582        13  ...     13.98   \n",
            "4                 2.7      9.73        9872        14  ...     10.12   \n",
            "\n",
            "    2023.10.7   2023.11 2023.11.1 2023.11.2  2023.11.3  2023.11.4  \\\n",
            "0  인구밀도 (명/㎢)  읍면동수 (개)  세대수 (세대)  인구수  (명)  남자인구수 (명)  여자인구수 (명)   \n",
            "1        4348       205   1564199   3351426    1637479    1713947   \n",
            "2       13746         9     23766     41164      20364      20800   \n",
            "3        7634        13     53657    106793      51514      55279   \n",
            "4        8932        12     47471     90325      44001      46324   \n",
            "\n",
            "            2023.11.5 2023.11.6   2023.11.7  \n",
            "0  시전체 인구에 대한 구성비 (%)    면적 (㎢)  인구밀도 (명/㎢)  \n",
            "1               100.0    771.33        4345  \n",
            "2                 1.2      3.01       13676  \n",
            "3                 3.2     13.98        7639  \n",
            "4                 2.7     10.12        8925  \n",
            "\n",
            "[5 rows x 857 columns]\n",
            "     구·군별 2015.01.2 2015.02.2 2015.03.2 2015.04.2 2015.05.2 2015.06.2  \\\n",
            "1   부산광역시   3561718   3561526   3560235   3559655   3560144   3561851   \n",
            "2      중구     48156     48155     48163     48101     47982     47988   \n",
            "3      서구    119548    119434    119156    118949    118789    118576   \n",
            "4      동구     96054     95866     95694     95599     95392     95238   \n",
            "5     영도구    133597    133375    133239    133086    132800    132666   \n",
            "6    부산진구    389866    389600    389330    389134    389041    388967   \n",
            "7     동래구    276439    276110    275548    275389    275225    274986   \n",
            "8      남구    290217    290431    290273    290163    289979    289660   \n",
            "9      북구    308177    307885    307674    307504    307548    307753   \n",
            "10   해운대구    428430    428311    428075    428054    428170    428433   \n",
            "11    사하구    347727    347218    346947    346753    346456    345854   \n",
            "12    금정구    252446    252283    252270    251749    251666    251584   \n",
            "13    강서구     86709     87835     88488     89056     90329     92627   \n",
            "14    연제구    208668    209054    209006    208698    208317    208229   \n",
            "15    수영구    180586    180831    180839    180894    181081    181374   \n",
            "16    사상구    247480    246794    246627    246313    245986    245632   \n",
            "17    기장군    147618    148344    148906    150213    151383    152284   \n",
            "0     NaN  인구수  (명)  인구수  (명)  인구수  (명)  인구수  (명)  인구수  (명)  인구수  (명)   \n",
            "\n",
            "   2015.07.2 2015.08.2 2015.09.2  ... 2023.02.2 2023.03.2 2023.04.2 2023.05.2  \\\n",
            "1    3563562   3562469   3562378  ...   3364647   3364066   3362430   3361053   \n",
            "2      47927     47823     47909  ...     41957     41862     41890     41732   \n",
            "3     118348    118235    118048  ...    107209    107035    106977    106877   \n",
            "4      95072     94858     94684  ...     88151     88013     87818     87744   \n",
            "5     132452    132225    132103  ...    109865    109774    109553    109412   \n",
            "6     388576    388016    387580  ...    360045    360354    360365    360565   \n",
            "7     274651    274398    274274  ...    274567    274419    274273    274065   \n",
            "8     289232    288506    288165  ...    262157    262385    262382    262272   \n",
            "9     308001    308249    308213  ...    280121    279814    279440    279074   \n",
            "10    428178    427897    427789  ...    390489    389843    389361    389117   \n",
            "11    345460    344736    344353  ...    306635    306547    306358    306147   \n",
            "12    251155    250905    251146  ...    224410    224488    224011    223670   \n",
            "13     94543     95977     97163  ...    148060    148176    148315    148504   \n",
            "14    210469    211156    211155  ...    204025    204094    204073    204023   \n",
            "15    181389    181445    181497  ...    176992    177230    177271    177368   \n",
            "16    245135    244554    244426  ...    208353    208557    208601    208586   \n",
            "17    152974    153489    153873  ...    181611    181475    181742    181897   \n",
            "0   인구수  (명)  인구수  (명)  인구수  (명)  ...  인구수  (명)  인구수  (명)  인구수  (명)  인구수  (명)   \n",
            "\n",
            "   2023.06.2 2023.07.2 2023.08.2 2023.09.2 2023.10.2 2023.11.2  \n",
            "1    3359237   3357737   3355690   3355524   3353816   3351426  \n",
            "2      41733     41645     41483     41359     41376     41164  \n",
            "3     106761    106660    106737    106722    106725    106793  \n",
            "4      89082     90044     90418     90458     90387     90325  \n",
            "5     109255    109483    109437    109350    109329    109301  \n",
            "6     360309    360153    360119    361250    362282    362675  \n",
            "7     273878    273671    273489    273197    273002    272849  \n",
            "8     261921    261486    261141    260910    261212    261166  \n",
            "9     278784    278417    277800    277099    276638    276258  \n",
            "10    388452    388123    387499    387193    386622    386185  \n",
            "11    305761    305316    304768    304469    303886    303412  \n",
            "12    223182    222657    222095    222232    221486    221049  \n",
            "13    148597    148678    148693    148762    148705    148736  \n",
            "14    203939    204051    203961    203937    204073    204087  \n",
            "15    177435    177358    177416    177145    176992    176715  \n",
            "16    208275    208162    208823    209605    209302    209015  \n",
            "17    181873    181833    181811    181836    181799    181696  \n",
            "0   인구수  (명)  인구수  (명)  인구수  (명)  인구수  (명)  인구수  (명)  인구수  (명)  \n",
            "\n",
            "[18 rows x 108 columns]\n"
          ]
        }
      ]
    },
    {
      "cell_type": "code",
      "source": [
        "#===============================+\n",
        "# subdf 내용 확인 및 test code  |\n",
        "#===============================+\n",
        "\n",
        "# print(len(date_series))\n",
        "# print(date_series)\n",
        "print(subdf.columns[1:])\n",
        "print(len(subdf.columns[1:]))\n",
        "print(len(subdf[subdf['구·군별'] == '중구'].to_numpy()[:,1:].flatten()))"
      ],
      "metadata": {
        "colab": {
          "base_uri": "https://localhost:8080/"
        },
        "id": "XA2Un14LSCLV",
        "outputId": "2f7b83ac-3d41-46e2-f401-21bdad562219"
      },
      "execution_count": null,
      "outputs": [
        {
          "output_type": "stream",
          "name": "stdout",
          "text": [
            "Index(['2015.01.2', '2015.02.2', '2015.03.2', '2015.04.2', '2015.05.2',\n",
            "       '2015.06.2', '2015.07.2', '2015.08.2', '2015.09.2', '2015.10.2',\n",
            "       ...\n",
            "       '2023.02.2', '2023.03.2', '2023.04.2', '2023.05.2', '2023.06.2',\n",
            "       '2023.07.2', '2023.08.2', '2023.09.2', '2023.10.2', '2023.11.2'],\n",
            "      dtype='object', length=107)\n",
            "107\n",
            "107\n"
          ]
        }
      ]
    },
    {
      "cell_type": "markdown",
      "source": [
        "# 부산 광역시 구·군별 인구 변화 시각화\n",
        "  - 20215-01 ~ 2023-11 까지의 인구 변화를 구·군별로 시각화하여 나타낸다."
      ],
      "metadata": {
        "id": "Bx9EGBqttUSU"
      }
    },
    {
      "cell_type": "code",
      "source": [
        "# Dash 애플리케이션 초기화\n",
        "app1 = dash.Dash()\n",
        "\n",
        "# 구·군별로 그래프를 만들기 위한 레이아웃 구성\n",
        "graphs = []\n",
        "for district in df['구·군별'][1:].unique():\n",
        "    graphs.append(\n",
        "        html.Div([\n",
        "            dcc.Graph(\n",
        "                id=f'population-change-{district}',\n",
        "                figure={\n",
        "                    'data': [\n",
        "                        go.Scatter(\n",
        "                            x= subdf.columns[1:],\n",
        "                            y= subdf[subdf['구·군별'] == district].to_numpy()[:,1:].flatten(),\n",
        "                            mode='lines+markers',\n",
        "                            name=district\n",
        "                        )\n",
        "                    ],\n",
        "                    'layout': go.Layout(\n",
        "                        title=f'{district} 월별 인구 변화',\n",
        "                        xaxis={'title': '월'},\n",
        "                        yaxis={'title': '인구수'},\n",
        "                        hovermode='closest'\n",
        "                    )\n",
        "                }\n",
        "            )\n",
        "        ])\n",
        "    )\n",
        "\n",
        "# 레이아웃 설정\n",
        "app1.layout = html.Div(graphs)\n",
        "\n",
        "# 서버 실행\n",
        "if __name__ == '__main__':\n",
        "    app1.run_server(debug=True)"
      ],
      "metadata": {
        "colab": {
          "base_uri": "https://localhost:8080/",
          "height": 670
        },
        "id": "xBnjJhBw_wGh",
        "outputId": "95f4fc06-bcc7-4f7c-a113-fac77d999c07"
      },
      "execution_count": null,
      "outputs": [
        {
          "output_type": "display_data",
          "data": {
            "text/plain": [
              "<IPython.core.display.Javascript object>"
            ],
            "application/javascript": [
              "(async (port, path, width, height, cache, element) => {\n",
              "    if (!google.colab.kernel.accessAllowed && !cache) {\n",
              "      return;\n",
              "    }\n",
              "    element.appendChild(document.createTextNode(''));\n",
              "    const url = await google.colab.kernel.proxyPort(port, {cache});\n",
              "    const iframe = document.createElement('iframe');\n",
              "    iframe.src = new URL(path, url).toString();\n",
              "    iframe.height = height;\n",
              "    iframe.width = width;\n",
              "    iframe.style.border = 0;\n",
              "    iframe.allow = [\n",
              "        'accelerometer',\n",
              "        'autoplay',\n",
              "        'camera',\n",
              "        'clipboard-read',\n",
              "        'clipboard-write',\n",
              "        'gyroscope',\n",
              "        'magnetometer',\n",
              "        'microphone',\n",
              "        'serial',\n",
              "        'usb',\n",
              "        'xr-spatial-tracking',\n",
              "    ].join('; ');\n",
              "    element.appendChild(iframe);\n",
              "  })(8050, \"/\", \"100%\", 650, false, window.element)"
            ]
          },
          "metadata": {}
        }
      ]
    },
    {
      "cell_type": "code",
      "source": [
        "!pip install pandas numpy statsmodels"
      ],
      "metadata": {
        "colab": {
          "base_uri": "https://localhost:8080/"
        },
        "id": "tr3UBuneKSZw",
        "outputId": "ff71196b-ee4f-4dc3-9c7a-448d1f068eb8"
      },
      "execution_count": null,
      "outputs": [
        {
          "output_type": "stream",
          "name": "stdout",
          "text": [
            "Requirement already satisfied: pandas in /usr/local/lib/python3.10/dist-packages (1.5.3)\n",
            "Requirement already satisfied: numpy in /usr/local/lib/python3.10/dist-packages (1.23.5)\n",
            "Requirement already satisfied: statsmodels in /usr/local/lib/python3.10/dist-packages (0.14.1)\n",
            "Requirement already satisfied: python-dateutil>=2.8.1 in /usr/local/lib/python3.10/dist-packages (from pandas) (2.8.2)\n",
            "Requirement already satisfied: pytz>=2020.1 in /usr/local/lib/python3.10/dist-packages (from pandas) (2023.3.post1)\n",
            "Requirement already satisfied: scipy!=1.9.2,>=1.4 in /usr/local/lib/python3.10/dist-packages (from statsmodels) (1.11.4)\n",
            "Requirement already satisfied: patsy>=0.5.4 in /usr/local/lib/python3.10/dist-packages (from statsmodels) (0.5.4)\n",
            "Requirement already satisfied: packaging>=21.3 in /usr/local/lib/python3.10/dist-packages (from statsmodels) (23.2)\n",
            "Requirement already satisfied: six in /usr/local/lib/python3.10/dist-packages (from patsy>=0.5.4->statsmodels) (1.16.0)\n"
          ]
        }
      ]
    },
    {
      "cell_type": "code",
      "source": [
        "print(subdf.columns)\n",
        "# 데이터 형식: '월', '인구수'\n",
        "mldata = pd.DataFrame(subdf)\n",
        "print(type(subdf.columns[1:]))\n",
        "# 시계열 데이터 설정 (인덱스를 날짜로 설정)\n",
        "pd.date_range(start=\"2015-01\", end=\"2023-12\", freq='M')"
      ],
      "metadata": {
        "colab": {
          "base_uri": "https://localhost:8080/"
        },
        "id": "9HdUPfYeOume",
        "outputId": "94e11f8e-45a0-436a-a2eb-f405359789e4"
      },
      "execution_count": null,
      "outputs": [
        {
          "output_type": "stream",
          "name": "stdout",
          "text": [
            "Index(['구·군별', '2015.01.2', '2015.02.2', '2015.03.2', '2015.04.2', '2015.05.2',\n",
            "       '2015.06.2', '2015.07.2', '2015.08.2', '2015.09.2',\n",
            "       ...\n",
            "       '2023.02.2', '2023.03.2', '2023.04.2', '2023.05.2', '2023.06.2',\n",
            "       '2023.07.2', '2023.08.2', '2023.09.2', '2023.10.2', '2023.11.2'],\n",
            "      dtype='object', length=108)\n",
            "<class 'pandas.core.indexes.base.Index'>\n"
          ]
        },
        {
          "output_type": "execute_result",
          "data": {
            "text/plain": [
              "DatetimeIndex(['2015-01-31', '2015-02-28', '2015-03-31', '2015-04-30',\n",
              "               '2015-05-31', '2015-06-30', '2015-07-31', '2015-08-31',\n",
              "               '2015-09-30', '2015-10-31',\n",
              "               ...\n",
              "               '2023-02-28', '2023-03-31', '2023-04-30', '2023-05-31',\n",
              "               '2023-06-30', '2023-07-31', '2023-08-31', '2023-09-30',\n",
              "               '2023-10-31', '2023-11-30'],\n",
              "              dtype='datetime64[ns]', length=107, freq='M')"
            ]
          },
          "metadata": {},
          "execution_count": 18
        }
      ]
    },
    {
      "cell_type": "code",
      "source": [
        "subdf[subdf['구·군별']=='중구'].to_numpy().flatten()[1:]\n",
        "# subdf.columns[1:]"
      ],
      "metadata": {
        "colab": {
          "base_uri": "https://localhost:8080/"
        },
        "id": "Z_r3q2WARi7w",
        "outputId": "f2856dbd-733c-4c2a-b30f-82723d47b36b"
      },
      "execution_count": null,
      "outputs": [
        {
          "output_type": "execute_result",
          "data": {
            "text/plain": [
              "array(['48156', '48155', '48163', '48101', '47982', '47988', '47927',\n",
              "       '47823', '47909', '47824', '47654', '47530', '47495', '47436',\n",
              "       '47434', '47370', '47358', '47374', '47313', '47234', '47237',\n",
              "       '47224', '47192', '47117', '47061', '46989', '46975', '46838',\n",
              "       '46729', '46682', '46584', '46538', '46479', '46323', '46169',\n",
              "       '46066', '45965', '45821', '45788', '45698', '45571', '45408',\n",
              "       '45278', '45121', '45064', '45026', '44952', '44852', '44734',\n",
              "       '44673', '44635', '44575', '44436', '44474', '44476', '44278',\n",
              "       '44223', '44213', '44169', '44072', '44107', '44115', '44031',\n",
              "       '43931', '43835', '43722', '43721', '43691', '43644', '43645',\n",
              "       '43571', '43617', '43657', '43629', '43438', '43362', '43216',\n",
              "       '42619', '42734', '42768', '42760', '42734', '42602', '42609',\n",
              "       '42636', '42680', '42725', '42773', '42680', '42692', '42594',\n",
              "       '42455', '42267', '42136', '42001', '41909', '41913', '41957',\n",
              "       '41862', '41890', '41732', '41733', '41645', '41483', '41359',\n",
              "       '41376', '41164'], dtype=object)"
            ]
          },
          "metadata": {},
          "execution_count": 19
        }
      ]
    },
    {
      "cell_type": "code",
      "source": [
        "print(subdf.head())"
      ],
      "metadata": {
        "colab": {
          "base_uri": "https://localhost:8080/"
        },
        "id": "v-WaMV4iaoSq",
        "outputId": "74b44768-5eb8-4f6a-bc3a-b4d27acf1243"
      },
      "execution_count": null,
      "outputs": [
        {
          "output_type": "stream",
          "name": "stdout",
          "text": [
            "    구·군별 2015.01.2 2015.02.2 2015.03.2 2015.04.2 2015.05.2 2015.06.2  \\\n",
            "1  부산광역시   3561718   3561526   3560235   3559655   3560144   3561851   \n",
            "2     중구     48156     48155     48163     48101     47982     47988   \n",
            "3     서구    119548    119434    119156    118949    118789    118576   \n",
            "4     동구     96054     95866     95694     95599     95392     95238   \n",
            "5    영도구    133597    133375    133239    133086    132800    132666   \n",
            "\n",
            "  2015.07.2 2015.08.2 2015.09.2  ... 2023.02.2 2023.03.2 2023.04.2 2023.05.2  \\\n",
            "1   3563562   3562469   3562378  ...   3364647   3364066   3362430   3361053   \n",
            "2     47927     47823     47909  ...     41957     41862     41890     41732   \n",
            "3    118348    118235    118048  ...    107209    107035    106977    106877   \n",
            "4     95072     94858     94684  ...     88151     88013     87818     87744   \n",
            "5    132452    132225    132103  ...    109865    109774    109553    109412   \n",
            "\n",
            "  2023.06.2 2023.07.2 2023.08.2 2023.09.2 2023.10.2 2023.11.2  \n",
            "1   3359237   3357737   3355690   3355524   3353816   3351426  \n",
            "2     41733     41645     41483     41359     41376     41164  \n",
            "3    106761    106660    106737    106722    106725    106793  \n",
            "4     89082     90044     90418     90458     90387     90325  \n",
            "5    109255    109483    109437    109350    109329    109301  \n",
            "\n",
            "[5 rows x 108 columns]\n"
          ]
        }
      ]
    },
    {
      "cell_type": "markdown",
      "source": [
        "# ARIMA 모델을 활용한 시계열 데이터 예측(프로토타입)\n",
        "- 부산광역시 중구에 대한 예측 모델"
      ],
      "metadata": {
        "id": "d_JXhPvls1dU"
      }
    },
    {
      "cell_type": "code",
      "source": [
        "import pandas as pd\n",
        "import numpy as np\n",
        "from statsmodels.tsa.arima.model import ARIMA\n",
        "\n",
        "\n",
        "# 예시 데이터 로드 (여기서는 실제 데이터를 사용해야 함)\n",
        "# 데이터 형식: '월', '인구수'\n",
        "mldata = {\n",
        "    '월': pd.date_range(start=\"2015-01\", end=\"2023-12\", freq='M'),\n",
        "    '인구': subdf[subdf['구·군별']=='중구'].to_numpy().flatten()[1:]\n",
        "}\n",
        "data = pd.DataFrame(mldata)\n",
        "data['인구'] = pd.to_numeric(data['인구'], errors='coerce')\n",
        "\n",
        "# 시계열 데이터 설정 (인덱스를 날짜로 설정)\n",
        "data.set_index('월', inplace=True)\n",
        "# print(data.head())\n",
        "print(type(data['인구']))\n",
        "print(data['인구'])\n",
        "# ARIMA 모델을 위한 매개변수 설정\n",
        "# p: 자기회귀 부분의 차수, d: 차분의 차수, q: 이동평균 부분의 차수\n",
        "p, d, q = 5, 1, 0\n",
        "\n",
        "# ARIMA 모델 학습\n",
        "model = ARIMA(data['인구'], order=(p, d, q))\n",
        "model_fit = model.fit()\n",
        "\n",
        "# 다음 몇 개월 간의 인구수를 예측 (예: 12개월)\n",
        "forecast = model_fit.forecast(steps=12)\n",
        "forecast_rounded = np.round(forecast).astype(int)\n",
        "\n",
        "print(forecast_rounded)"
      ],
      "metadata": {
        "colab": {
          "base_uri": "https://localhost:8080/"
        },
        "id": "_IKMyePbNWUE",
        "outputId": "f0c5cbce-e2d1-4806-f346-0a18adc34b4b"
      },
      "execution_count": null,
      "outputs": [
        {
          "output_type": "stream",
          "name": "stdout",
          "text": [
            "<class 'pandas.core.series.Series'>\n",
            "월\n",
            "2015-01-31    48156\n",
            "2015-02-28    48155\n",
            "2015-03-31    48163\n",
            "2015-04-30    48101\n",
            "2015-05-31    47982\n",
            "              ...  \n",
            "2023-07-31    41645\n",
            "2023-08-31    41483\n",
            "2023-09-30    41359\n",
            "2023-10-31    41376\n",
            "2023-11-30    41164\n",
            "Name: 인구, Length: 107, dtype: int64\n"
          ]
        },
        {
          "output_type": "stream",
          "name": "stderr",
          "text": [
            "/usr/local/lib/python3.10/dist-packages/statsmodels/tsa/base/tsa_model.py:473: ValueWarning:\n",
            "\n",
            "No frequency information was provided, so inferred frequency M will be used.\n",
            "\n",
            "/usr/local/lib/python3.10/dist-packages/statsmodels/tsa/base/tsa_model.py:473: ValueWarning:\n",
            "\n",
            "No frequency information was provided, so inferred frequency M will be used.\n",
            "\n",
            "/usr/local/lib/python3.10/dist-packages/statsmodels/tsa/base/tsa_model.py:473: ValueWarning:\n",
            "\n",
            "No frequency information was provided, so inferred frequency M will be used.\n",
            "\n"
          ]
        },
        {
          "output_type": "stream",
          "name": "stdout",
          "text": [
            "2023-12-31    41088\n",
            "2024-01-31    41046\n",
            "2024-02-29    40975\n",
            "2024-03-31    40940\n",
            "2024-04-30    40902\n",
            "2024-05-31    40869\n",
            "2024-06-30    40848\n",
            "2024-07-31    40827\n",
            "2024-08-31    40811\n",
            "2024-09-30    40799\n",
            "2024-10-31    40788\n",
            "2024-11-30    40779\n",
            "Freq: M, Name: predicted_mean, dtype: int64\n"
          ]
        }
      ]
    },
    {
      "cell_type": "code",
      "source": [
        "print(type(forecast_rounded.values))\n",
        "forecast_rounded.values"
      ],
      "metadata": {
        "colab": {
          "base_uri": "https://localhost:8080/"
        },
        "id": "4q9oBMabXd0i",
        "outputId": "28ccf205-b87b-4035-b7ff-e934c1fba4f6"
      },
      "execution_count": null,
      "outputs": [
        {
          "output_type": "stream",
          "name": "stdout",
          "text": [
            "<class 'numpy.ndarray'>\n"
          ]
        },
        {
          "output_type": "execute_result",
          "data": {
            "text/plain": [
              "array([41088, 41046, 40975, 40940, 40902, 40869, 40848, 40827, 40811,\n",
              "       40799, 40788, 40779])"
            ]
          },
          "metadata": {},
          "execution_count": 11
        }
      ]
    },
    {
      "cell_type": "markdown",
      "source": [
        "# 부산광역시 구·군별 인구 변화에 대한 ARIMA Model의 예측\n",
        "  - 2015-01 ~ 2023-11 까지의 데이터를 학습하여 2024-1 ~ 2024-12까지 인구 변화를 예측함.\n",
        "  - 각 구·군별 예측 자료를 기존 데이터에 덧 붙여 시각화함.\n"
      ],
      "metadata": {
        "id": "vVvv8UUuttvN"
      }
    },
    {
      "cell_type": "code",
      "source": [
        "# Dash 애플리케이션 초기화\n",
        "app = dash.Dash()\n",
        "\n",
        "future_dates = pd.date_range(start=\"2024-01\", periods=12, freq='M')\n",
        "future_dates = future_dates.strftime(\"%Y-%m\").tolist()\n",
        "# print('찌찌지지지지future_dates',future_dates)\n",
        "\n",
        "# 구·군별로 그래프를 만들기 위한 레이아웃 구성\n",
        "graphs = []\n",
        "for district in df['구·군별'][1:].unique():\n",
        "\n",
        "    mldata = {\n",
        "        '월': pd.date_range(start=\"2015-01\", end=\"2023-12\", freq='M'),\n",
        "        '인구': subdf[subdf['구·군별']==district].to_numpy().flatten()[1:]\n",
        "    }\n",
        "    data = pd.DataFrame(mldata)\n",
        "    data['인구'] = pd.to_numeric(data['인구'], errors='coerce')\n",
        "\n",
        "    # 시계열 데이터 설정 (인덱스를 날짜로 설정)\n",
        "    data.set_index('월', inplace=True)\n",
        "    # print(data.head())\n",
        "    # print(type(data['인구']))\n",
        "    # print(data['인구'])\n",
        "    # ARIMA 모델을 위한 매개변수 설정\n",
        "    # p: 자기회귀 부분의 차수, d: 차분의 차수, q: 이동평균 부분의 차수\n",
        "    p, d, q = 5, 1, 0\n",
        "\n",
        "    # ARIMA 모델 학습\n",
        "    model = ARIMA(data['인구'], order=(p, d, q))\n",
        "    model_fit = model.fit()\n",
        "\n",
        "    # 다음 몇 개월 간의 인구수를 예측 (예: 12개월)\n",
        "    forecast = model_fit.forecast(steps=12)\n",
        "    forecast_rounded = np.round(forecast).astype(int)\n",
        "    forecast_df = pd.DataFrame(forecast)\n",
        "    print('future_dates', future_dates)\n",
        "    # 월, 인구수 예측 배열 합치기\n",
        "    combined = np.concatenate(([future_dates], [forecast_rounded.values]))\n",
        "    # DataFrame 생성\n",
        "    combined_df = pd.DataFrame([forecast_rounded.values], columns=future_dates)\n",
        "\n",
        "    # 결과 확인\n",
        "    # print(df.columns)\n",
        "    # print(combined)\n",
        "    # print('combined ')\n",
        "    # print(combined_df)\n",
        "\n",
        "    graphs.append(\n",
        "        html.Div([\n",
        "            dcc.Graph(\n",
        "                id=f'population-change-{district}',\n",
        "                figure={\n",
        "                    'data': [\n",
        "                        go.Scatter(\n",
        "                            x= subdf.columns[1:],\n",
        "                            y= subdf[subdf['구·군별'] == district].to_numpy()[:,1:].flatten(),\n",
        "                            mode='lines+markers',\n",
        "                            name=district,\n",
        "                            line=dict(color='blue') # 실제 데이터 색상 설정\n",
        "                        ),\n",
        "                        go.Scatter(\n",
        "                            x= future_dates,\n",
        "                            y= forecast_rounded.values,\n",
        "                            mode='lines+markers',\n",
        "                            name=district,\n",
        "                            line=dict(color='red') # 실제 데이터 색상 설정\n",
        "                        )\n",
        "                    ],\n",
        "                    'layout': go.Layout(\n",
        "                        title=f'{district} 월별 인구 변화',\n",
        "                        xaxis={'title': '월'},\n",
        "                        yaxis={'title': '인구수'},\n",
        "                        hovermode='closest'\n",
        "                    )\n",
        "                }\n",
        "            )\n",
        "        ])\n",
        "    )\n",
        "\n",
        "# 레이아웃 설정\n",
        "app.layout = html.Div(graphs)\n",
        "\n",
        "# 서버 실행\n",
        "if __name__ == '__main__':\n",
        "    app.run_server(debug=True)"
      ],
      "metadata": {
        "colab": {
          "base_uri": "https://localhost:8080/",
          "height": 1000
        },
        "id": "USG3Brf9WodW",
        "outputId": "0c343783-8d69-4dc9-dd5d-a9608ba3fcb8"
      },
      "execution_count": null,
      "outputs": [
        {
          "output_type": "stream",
          "name": "stderr",
          "text": [
            "/usr/local/lib/python3.10/dist-packages/statsmodels/tsa/base/tsa_model.py:473: ValueWarning:\n",
            "\n",
            "No frequency information was provided, so inferred frequency M will be used.\n",
            "\n",
            "/usr/local/lib/python3.10/dist-packages/statsmodels/tsa/base/tsa_model.py:473: ValueWarning:\n",
            "\n",
            "No frequency information was provided, so inferred frequency M will be used.\n",
            "\n",
            "/usr/local/lib/python3.10/dist-packages/statsmodels/tsa/base/tsa_model.py:473: ValueWarning:\n",
            "\n",
            "No frequency information was provided, so inferred frequency M will be used.\n",
            "\n",
            "/usr/local/lib/python3.10/dist-packages/statsmodels/tsa/base/tsa_model.py:473: ValueWarning:\n",
            "\n",
            "No frequency information was provided, so inferred frequency M will be used.\n",
            "\n",
            "/usr/local/lib/python3.10/dist-packages/statsmodels/tsa/base/tsa_model.py:473: ValueWarning:\n",
            "\n",
            "No frequency information was provided, so inferred frequency M will be used.\n",
            "\n"
          ]
        },
        {
          "output_type": "stream",
          "name": "stdout",
          "text": [
            "future_dates ['2024-01', '2024-02', '2024-03', '2024-04', '2024-05', '2024-06', '2024-07', '2024-08', '2024-09', '2024-10', '2024-11', '2024-12']\n",
            "future_dates ['2024-01', '2024-02', '2024-03', '2024-04', '2024-05', '2024-06', '2024-07', '2024-08', '2024-09', '2024-10', '2024-11', '2024-12']\n"
          ]
        },
        {
          "output_type": "stream",
          "name": "stderr",
          "text": [
            "/usr/local/lib/python3.10/dist-packages/statsmodels/tsa/base/tsa_model.py:473: ValueWarning:\n",
            "\n",
            "No frequency information was provided, so inferred frequency M will be used.\n",
            "\n",
            "/usr/local/lib/python3.10/dist-packages/statsmodels/tsa/base/tsa_model.py:473: ValueWarning:\n",
            "\n",
            "No frequency information was provided, so inferred frequency M will be used.\n",
            "\n",
            "/usr/local/lib/python3.10/dist-packages/statsmodels/tsa/base/tsa_model.py:473: ValueWarning:\n",
            "\n",
            "No frequency information was provided, so inferred frequency M will be used.\n",
            "\n",
            "/usr/local/lib/python3.10/dist-packages/statsmodels/tsa/base/tsa_model.py:473: ValueWarning:\n",
            "\n",
            "No frequency information was provided, so inferred frequency M will be used.\n",
            "\n"
          ]
        },
        {
          "output_type": "stream",
          "name": "stdout",
          "text": [
            "future_dates ['2024-01', '2024-02', '2024-03', '2024-04', '2024-05', '2024-06', '2024-07', '2024-08', '2024-09', '2024-10', '2024-11', '2024-12']\n"
          ]
        },
        {
          "output_type": "stream",
          "name": "stderr",
          "text": [
            "/usr/local/lib/python3.10/dist-packages/statsmodels/tsa/base/tsa_model.py:473: ValueWarning:\n",
            "\n",
            "No frequency information was provided, so inferred frequency M will be used.\n",
            "\n",
            "/usr/local/lib/python3.10/dist-packages/statsmodels/tsa/base/tsa_model.py:473: ValueWarning:\n",
            "\n",
            "No frequency information was provided, so inferred frequency M will be used.\n",
            "\n",
            "/usr/local/lib/python3.10/dist-packages/statsmodels/tsa/base/tsa_model.py:473: ValueWarning:\n",
            "\n",
            "No frequency information was provided, so inferred frequency M will be used.\n",
            "\n"
          ]
        },
        {
          "output_type": "stream",
          "name": "stdout",
          "text": [
            "future_dates ['2024-01', '2024-02', '2024-03', '2024-04', '2024-05', '2024-06', '2024-07', '2024-08', '2024-09', '2024-10', '2024-11', '2024-12']\n"
          ]
        },
        {
          "output_type": "stream",
          "name": "stderr",
          "text": [
            "/usr/local/lib/python3.10/dist-packages/statsmodels/tsa/base/tsa_model.py:473: ValueWarning:\n",
            "\n",
            "No frequency information was provided, so inferred frequency M will be used.\n",
            "\n",
            "/usr/local/lib/python3.10/dist-packages/statsmodels/tsa/base/tsa_model.py:473: ValueWarning:\n",
            "\n",
            "No frequency information was provided, so inferred frequency M will be used.\n",
            "\n",
            "/usr/local/lib/python3.10/dist-packages/statsmodels/tsa/base/tsa_model.py:473: ValueWarning:\n",
            "\n",
            "No frequency information was provided, so inferred frequency M will be used.\n",
            "\n"
          ]
        },
        {
          "output_type": "stream",
          "name": "stdout",
          "text": [
            "future_dates ['2024-01', '2024-02', '2024-03', '2024-04', '2024-05', '2024-06', '2024-07', '2024-08', '2024-09', '2024-10', '2024-11', '2024-12']\n"
          ]
        },
        {
          "output_type": "stream",
          "name": "stderr",
          "text": [
            "/usr/local/lib/python3.10/dist-packages/statsmodels/tsa/base/tsa_model.py:473: ValueWarning:\n",
            "\n",
            "No frequency information was provided, so inferred frequency M will be used.\n",
            "\n",
            "/usr/local/lib/python3.10/dist-packages/statsmodels/tsa/base/tsa_model.py:473: ValueWarning:\n",
            "\n",
            "No frequency information was provided, so inferred frequency M will be used.\n",
            "\n",
            "/usr/local/lib/python3.10/dist-packages/statsmodels/tsa/base/tsa_model.py:473: ValueWarning:\n",
            "\n",
            "No frequency information was provided, so inferred frequency M will be used.\n",
            "\n"
          ]
        },
        {
          "output_type": "stream",
          "name": "stdout",
          "text": [
            "future_dates ['2024-01', '2024-02', '2024-03', '2024-04', '2024-05', '2024-06', '2024-07', '2024-08', '2024-09', '2024-10', '2024-11', '2024-12']\n",
            "future_dates ['2024-01', '2024-02', '2024-03', '2024-04', '2024-05', '2024-06', '2024-07', '2024-08', '2024-09', '2024-10', '2024-11', '2024-12']\n"
          ]
        },
        {
          "output_type": "stream",
          "name": "stderr",
          "text": [
            "/usr/local/lib/python3.10/dist-packages/statsmodels/tsa/base/tsa_model.py:473: ValueWarning:\n",
            "\n",
            "No frequency information was provided, so inferred frequency M will be used.\n",
            "\n",
            "/usr/local/lib/python3.10/dist-packages/statsmodels/tsa/base/tsa_model.py:473: ValueWarning:\n",
            "\n",
            "No frequency information was provided, so inferred frequency M will be used.\n",
            "\n",
            "/usr/local/lib/python3.10/dist-packages/statsmodels/tsa/base/tsa_model.py:473: ValueWarning:\n",
            "\n",
            "No frequency information was provided, so inferred frequency M will be used.\n",
            "\n",
            "/usr/local/lib/python3.10/dist-packages/statsmodels/tsa/base/tsa_model.py:473: ValueWarning:\n",
            "\n",
            "No frequency information was provided, so inferred frequency M will be used.\n",
            "\n",
            "/usr/local/lib/python3.10/dist-packages/statsmodels/tsa/base/tsa_model.py:473: ValueWarning:\n",
            "\n",
            "No frequency information was provided, so inferred frequency M will be used.\n",
            "\n",
            "/usr/local/lib/python3.10/dist-packages/statsmodels/tsa/base/tsa_model.py:473: ValueWarning:\n",
            "\n",
            "No frequency information was provided, so inferred frequency M will be used.\n",
            "\n"
          ]
        },
        {
          "output_type": "stream",
          "name": "stdout",
          "text": [
            "future_dates ['2024-01', '2024-02', '2024-03', '2024-04', '2024-05', '2024-06', '2024-07', '2024-08', '2024-09', '2024-10', '2024-11', '2024-12']\n"
          ]
        },
        {
          "output_type": "stream",
          "name": "stderr",
          "text": [
            "/usr/local/lib/python3.10/dist-packages/statsmodels/tsa/base/tsa_model.py:473: ValueWarning:\n",
            "\n",
            "No frequency information was provided, so inferred frequency M will be used.\n",
            "\n",
            "/usr/local/lib/python3.10/dist-packages/statsmodels/tsa/base/tsa_model.py:473: ValueWarning:\n",
            "\n",
            "No frequency information was provided, so inferred frequency M will be used.\n",
            "\n",
            "/usr/local/lib/python3.10/dist-packages/statsmodels/tsa/base/tsa_model.py:473: ValueWarning:\n",
            "\n",
            "No frequency information was provided, so inferred frequency M will be used.\n",
            "\n"
          ]
        },
        {
          "output_type": "stream",
          "name": "stdout",
          "text": [
            "future_dates ['2024-01', '2024-02', '2024-03', '2024-04', '2024-05', '2024-06', '2024-07', '2024-08', '2024-09', '2024-10', '2024-11', '2024-12']\n"
          ]
        },
        {
          "output_type": "stream",
          "name": "stderr",
          "text": [
            "/usr/local/lib/python3.10/dist-packages/statsmodels/tsa/base/tsa_model.py:473: ValueWarning:\n",
            "\n",
            "No frequency information was provided, so inferred frequency M will be used.\n",
            "\n",
            "/usr/local/lib/python3.10/dist-packages/statsmodels/tsa/base/tsa_model.py:473: ValueWarning:\n",
            "\n",
            "No frequency information was provided, so inferred frequency M will be used.\n",
            "\n",
            "/usr/local/lib/python3.10/dist-packages/statsmodels/tsa/base/tsa_model.py:473: ValueWarning:\n",
            "\n",
            "No frequency information was provided, so inferred frequency M will be used.\n",
            "\n"
          ]
        },
        {
          "output_type": "stream",
          "name": "stdout",
          "text": [
            "future_dates ['2024-01', '2024-02', '2024-03', '2024-04', '2024-05', '2024-06', '2024-07', '2024-08', '2024-09', '2024-10', '2024-11', '2024-12']\n"
          ]
        },
        {
          "output_type": "stream",
          "name": "stderr",
          "text": [
            "/usr/local/lib/python3.10/dist-packages/statsmodels/tsa/base/tsa_model.py:473: ValueWarning:\n",
            "\n",
            "No frequency information was provided, so inferred frequency M will be used.\n",
            "\n",
            "/usr/local/lib/python3.10/dist-packages/statsmodels/tsa/base/tsa_model.py:473: ValueWarning:\n",
            "\n",
            "No frequency information was provided, so inferred frequency M will be used.\n",
            "\n",
            "/usr/local/lib/python3.10/dist-packages/statsmodels/tsa/base/tsa_model.py:473: ValueWarning:\n",
            "\n",
            "No frequency information was provided, so inferred frequency M will be used.\n",
            "\n"
          ]
        },
        {
          "output_type": "stream",
          "name": "stdout",
          "text": [
            "future_dates ['2024-01', '2024-02', '2024-03', '2024-04', '2024-05', '2024-06', '2024-07', '2024-08', '2024-09', '2024-10', '2024-11', '2024-12']\n"
          ]
        },
        {
          "output_type": "stream",
          "name": "stderr",
          "text": [
            "/usr/local/lib/python3.10/dist-packages/statsmodels/tsa/base/tsa_model.py:473: ValueWarning:\n",
            "\n",
            "No frequency information was provided, so inferred frequency M will be used.\n",
            "\n",
            "/usr/local/lib/python3.10/dist-packages/statsmodels/tsa/base/tsa_model.py:473: ValueWarning:\n",
            "\n",
            "No frequency information was provided, so inferred frequency M will be used.\n",
            "\n",
            "/usr/local/lib/python3.10/dist-packages/statsmodels/tsa/base/tsa_model.py:473: ValueWarning:\n",
            "\n",
            "No frequency information was provided, so inferred frequency M will be used.\n",
            "\n"
          ]
        },
        {
          "output_type": "stream",
          "name": "stdout",
          "text": [
            "future_dates ['2024-01', '2024-02', '2024-03', '2024-04', '2024-05', '2024-06', '2024-07', '2024-08', '2024-09', '2024-10', '2024-11', '2024-12']\n"
          ]
        },
        {
          "output_type": "stream",
          "name": "stderr",
          "text": [
            "/usr/local/lib/python3.10/dist-packages/statsmodels/tsa/base/tsa_model.py:473: ValueWarning:\n",
            "\n",
            "No frequency information was provided, so inferred frequency M will be used.\n",
            "\n",
            "/usr/local/lib/python3.10/dist-packages/statsmodels/tsa/base/tsa_model.py:473: ValueWarning:\n",
            "\n",
            "No frequency information was provided, so inferred frequency M will be used.\n",
            "\n",
            "/usr/local/lib/python3.10/dist-packages/statsmodels/tsa/base/tsa_model.py:473: ValueWarning:\n",
            "\n",
            "No frequency information was provided, so inferred frequency M will be used.\n",
            "\n"
          ]
        },
        {
          "output_type": "stream",
          "name": "stdout",
          "text": [
            "future_dates ['2024-01', '2024-02', '2024-03', '2024-04', '2024-05', '2024-06', '2024-07', '2024-08', '2024-09', '2024-10', '2024-11', '2024-12']\n"
          ]
        },
        {
          "output_type": "stream",
          "name": "stderr",
          "text": [
            "/usr/local/lib/python3.10/dist-packages/statsmodels/tsa/base/tsa_model.py:473: ValueWarning:\n",
            "\n",
            "No frequency information was provided, so inferred frequency M will be used.\n",
            "\n",
            "/usr/local/lib/python3.10/dist-packages/statsmodels/tsa/base/tsa_model.py:473: ValueWarning:\n",
            "\n",
            "No frequency information was provided, so inferred frequency M will be used.\n",
            "\n",
            "/usr/local/lib/python3.10/dist-packages/statsmodels/tsa/base/tsa_model.py:473: ValueWarning:\n",
            "\n",
            "No frequency information was provided, so inferred frequency M will be used.\n",
            "\n"
          ]
        },
        {
          "output_type": "stream",
          "name": "stdout",
          "text": [
            "future_dates ['2024-01', '2024-02', '2024-03', '2024-04', '2024-05', '2024-06', '2024-07', '2024-08', '2024-09', '2024-10', '2024-11', '2024-12']\n"
          ]
        },
        {
          "output_type": "stream",
          "name": "stderr",
          "text": [
            "/usr/local/lib/python3.10/dist-packages/statsmodels/tsa/base/tsa_model.py:473: ValueWarning:\n",
            "\n",
            "No frequency information was provided, so inferred frequency M will be used.\n",
            "\n",
            "/usr/local/lib/python3.10/dist-packages/statsmodels/tsa/base/tsa_model.py:473: ValueWarning:\n",
            "\n",
            "No frequency information was provided, so inferred frequency M will be used.\n",
            "\n",
            "/usr/local/lib/python3.10/dist-packages/statsmodels/tsa/base/tsa_model.py:473: ValueWarning:\n",
            "\n",
            "No frequency information was provided, so inferred frequency M will be used.\n",
            "\n"
          ]
        },
        {
          "output_type": "stream",
          "name": "stdout",
          "text": [
            "future_dates ['2024-01', '2024-02', '2024-03', '2024-04', '2024-05', '2024-06', '2024-07', '2024-08', '2024-09', '2024-10', '2024-11', '2024-12']\n"
          ]
        },
        {
          "output_type": "stream",
          "name": "stderr",
          "text": [
            "/usr/local/lib/python3.10/dist-packages/statsmodels/tsa/base/tsa_model.py:473: ValueWarning:\n",
            "\n",
            "No frequency information was provided, so inferred frequency M will be used.\n",
            "\n",
            "/usr/local/lib/python3.10/dist-packages/statsmodels/tsa/base/tsa_model.py:473: ValueWarning:\n",
            "\n",
            "No frequency information was provided, so inferred frequency M will be used.\n",
            "\n",
            "/usr/local/lib/python3.10/dist-packages/statsmodels/tsa/base/tsa_model.py:473: ValueWarning:\n",
            "\n",
            "No frequency information was provided, so inferred frequency M will be used.\n",
            "\n"
          ]
        },
        {
          "output_type": "stream",
          "name": "stdout",
          "text": [
            "future_dates ['2024-01', '2024-02', '2024-03', '2024-04', '2024-05', '2024-06', '2024-07', '2024-08', '2024-09', '2024-10', '2024-11', '2024-12']\n"
          ]
        },
        {
          "output_type": "stream",
          "name": "stderr",
          "text": [
            "/usr/local/lib/python3.10/dist-packages/statsmodels/tsa/base/tsa_model.py:473: ValueWarning:\n",
            "\n",
            "No frequency information was provided, so inferred frequency M will be used.\n",
            "\n",
            "/usr/local/lib/python3.10/dist-packages/statsmodels/tsa/base/tsa_model.py:473: ValueWarning:\n",
            "\n",
            "No frequency information was provided, so inferred frequency M will be used.\n",
            "\n",
            "/usr/local/lib/python3.10/dist-packages/statsmodels/tsa/base/tsa_model.py:473: ValueWarning:\n",
            "\n",
            "No frequency information was provided, so inferred frequency M will be used.\n",
            "\n"
          ]
        },
        {
          "output_type": "stream",
          "name": "stdout",
          "text": [
            "future_dates ['2024-01', '2024-02', '2024-03', '2024-04', '2024-05', '2024-06', '2024-07', '2024-08', '2024-09', '2024-10', '2024-11', '2024-12']\n"
          ]
        },
        {
          "output_type": "display_data",
          "data": {
            "text/plain": [
              "<IPython.core.display.Javascript object>"
            ],
            "application/javascript": [
              "(async (port, path, width, height, cache, element) => {\n",
              "    if (!google.colab.kernel.accessAllowed && !cache) {\n",
              "      return;\n",
              "    }\n",
              "    element.appendChild(document.createTextNode(''));\n",
              "    const url = await google.colab.kernel.proxyPort(port, {cache});\n",
              "    const iframe = document.createElement('iframe');\n",
              "    iframe.src = new URL(path, url).toString();\n",
              "    iframe.height = height;\n",
              "    iframe.width = width;\n",
              "    iframe.style.border = 0;\n",
              "    iframe.allow = [\n",
              "        'accelerometer',\n",
              "        'autoplay',\n",
              "        'camera',\n",
              "        'clipboard-read',\n",
              "        'clipboard-write',\n",
              "        'gyroscope',\n",
              "        'magnetometer',\n",
              "        'microphone',\n",
              "        'serial',\n",
              "        'usb',\n",
              "        'xr-spatial-tracking',\n",
              "    ].join('; ');\n",
              "    element.appendChild(iframe);\n",
              "  })(8050, \"/\", \"100%\", 650, false, window.element)"
            ]
          },
          "metadata": {}
        }
      ]
    },
    {
      "cell_type": "code",
      "source": [],
      "metadata": {
        "id": "_Mv2o-9DYZTV"
      },
      "execution_count": null,
      "outputs": []
    }
  ]
}